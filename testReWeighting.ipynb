{
 "cells": [
  {
   "cell_type": "code",
   "execution_count": 1,
   "metadata": {
    "collapsed": true
   },
   "outputs": [],
   "source": [
    "%matplotlib inline"
   ]
  },
  {
   "cell_type": "markdown",
   "metadata": {},
   "source": [
    "# Imports"
   ]
  },
  {
   "cell_type": "code",
   "execution_count": 2,
   "metadata": {
    "collapsed": true
   },
   "outputs": [],
   "source": [
    "import numpy as np\n",
    "import sys\n",
    "import matplotlib.pyplot as plt\n",
    "from time import time\n",
    "from copy import copy"
   ]
  },
  {
   "cell_type": "markdown",
   "metadata": {},
   "source": [
    "# ELMAG related imports"
   ]
  },
  {
   "cell_type": "code",
   "execution_count": 3,
   "metadata": {
    "collapsed": true
   },
   "outputs": [],
   "source": [
    "from elmagpy202.elmag import Elmag\n",
    "from elmagpy202 import halo\n",
    "from elmagpy202 import binbybin as bbb"
   ]
  },
  {
   "cell_type": "markdown",
   "metadata": {},
   "source": [
    "# Initialization and Configuration"
   ]
  },
  {
   "cell_type": "code",
   "execution_count": 4,
   "metadata": {
    "collapsed": true
   },
   "outputs": [],
   "source": [
    "config = {\n",
    "    \"model\":          6, # EBL model, model 6 = Dominguez et al. (2011) model\n",
    "    \"ethr\":           1e+8, # Energy threshold in eV below which the cascade energy losses are integrated out\n",
    "    \"egmax\":          10e+12, # Maximum energy in eV for the injected gamma rays\n",
    "    \"ir_rescale\":     1.00, # Rescaling of the EBL photon density\n",
    "    \"cohlnth\":        1.00, # Coherence length of the IGMF in Mpc\n",
    "    \"th_jet\":       1.00, # Jet opening angle in degrees\n",
    "    \"igmf\":           1e-12, # IGMF strength in G. Note that at the moment it's not changing with z\n",
    "    \"emin\":           1.e+8, # Minimum energy in eV of the injected photons\n",
    "    \"ebreak\":         1.e+13, # Break energy in eV in case you want to model a broken power law (BPL)\n",
    "    \"gam1\":           -2, # Spectral index below Ebreak as in dN / dE ~ E^gam1\n",
    "    \"gam2\":           -2, # Spectral index above Ebreak as in dN / dE ~ E^gam2\n",
    "    \"iseed\":           0, # Seed for the random number generation, must be an integer\n",
    "    \"tabledir\":\t      \"Tables/\" #path to the EBL tables provided within Elmag\n",
    "    }"
   ]
  },
  {
   "cell_type": "code",
   "execution_count": 5,
   "metadata": {
    "collapsed": true
   },
   "outputs": [],
   "source": [
    "e = Elmag(**config)"
   ]
  },
  {
   "cell_type": "code",
   "execution_count": 6,
   "metadata": {
    "collapsed": true
   },
   "outputs": [],
   "source": [
    "e.igmf = 1e-15\n",
    "e.gam1 = config['gam1']\n",
    "e.gam1 = config['gam2']\n",
    "e.ebreak = 31.6227e12\n",
    "e.egmax = 31.6227e12\n",
    "e.emin = 1e8\n",
    "e.n_bine = int(np.log10(e.egmax / e.emin) * 8 + 2) # Set to 8 bins per decade, with left bin boundary aligned with 1 GeV\n",
    "e.set_params()"
   ]
  },
  {
   "cell_type": "markdown",
   "metadata": {},
   "source": [
    "# Run ELMAG "
   ]
  },
  {
   "cell_type": "markdown",
   "metadata": {},
   "source": [
    "Run bin by bin calculation twice for two different indices"
   ]
  },
  {
   "cell_type": "code",
   "execution_count": 7,
   "metadata": {
    "collapsed": false
   },
   "outputs": [
    {
     "name": "stdout",
     "output_type": "stream",
     "text": [
      "it took  183.207966089 s\n"
     ]
    }
   ],
   "source": [
    "z = 0.14 # source redshift \n",
    "nmax = 1e2 # number of injected particles for weight = 1\n",
    " # results for injected photons\n",
    "\n",
    "\n",
    "t0 = time()\n",
    "for ig,gam in enumerate([-2.,-1.6]):\n",
    "    e.gam1 = gam\n",
    "    e.set_params()\n",
    "    binByBinCasc = np.ones((e.EeV.shape[0],     # true energy axis\n",
    "                        e.EeV.shape[0],     # obs energy axis\n",
    "                        e.n_binth,  # angular separation axis\n",
    "                        e.n_bint,   # time delay axis\n",
    "                        )) * e.replaceZero\n",
    "    binByBinInit = np.ones(e.EeV.shape[0]) * e.replaceZero\n",
    "    for i,E in enumerate(e.EeV): # run the cascade for each energy bin\n",
    "        e.set_result_arrays()\n",
    "        e.bin_by_bin_cascade(z,nmax, ibin = i, ebl_weight=4)\n",
    "        binByBinCasc[i] = e.hist_etht\n",
    "        binByBinInit[i] = e.init_hist.sum()\n",
    "        \n",
    "    if not ig:\n",
    "        fbbbCasc = copy(binByBinCasc)\n",
    "        fbbbInit = copy(binByBinInit)\n",
    "print 'it took ',time() - t0, 's'"
   ]
  },
  {
   "cell_type": "markdown",
   "metadata": {},
   "source": [
    "Calculate the new weights. Works only if the ELMAG weighting is disabled, i.e. all particles are traced by setting $\\alpha_\\mathrm{smp} = 0$ and if we are dealing with simple power laws as injection spectra. In this case, the new weights are simple calculated through\n",
    "$$w' = \\left(\\frac{E_0}{E_\\mathrm{max}} \\right)^{\\alpha' - \\alpha},$$\n",
    "where the old power law is given by $dN / dE \\propto E^\\alpha$ and the new injection spectrum by $dN/dE \\propto E^{\\alpha'}$. $E_0$ is the central bin energy. \n",
    "\n",
    "Here, $\\alpha = -2$ and $\\alpha' = -1.6$. The output of the reweighting funtion has the dimension of the true energy axis and needs to be multiplied with this axis."
   ]
  },
  {
   "cell_type": "code",
   "execution_count": 9,
   "metadata": {
    "collapsed": false
   },
   "outputs": [],
   "source": [
    "w = bbb.calc_spectral_weights(e.EeV, e.ebreak, -2., -1.6)"
   ]
  },
  {
   "cell_type": "markdown",
   "metadata": {},
   "source": [
    "Apply the weights, need to be applied to true energy (0) axis:"
   ]
  },
  {
   "cell_type": "code",
   "execution_count": 12,
   "metadata": {
    "collapsed": false
   },
   "outputs": [
    {
     "name": "stdout",
     "output_type": "stream",
     "text": [
      "(44, 44, 93, 48)\n",
      "(44,)\n",
      "(44, 44, 93, 48)\n"
     ]
    }
   ],
   "source": [
    "print fbbbCasc.shape\n",
    "print w.shape\n",
    "fbbbCascWeighted = np.swapaxes(np.swapaxes(copy(fbbbCasc),0,-1) * w, 0, -1)\n",
    "print fbbbCascWeighted.shape"
   ]
  },
  {
   "cell_type": "markdown",
   "metadata": {},
   "source": [
    "Apply a time cut:"
   ]
  },
  {
   "cell_type": "code",
   "execution_count": 15,
   "metadata": {
    "collapsed": false
   },
   "outputs": [],
   "source": [
    "tmax = 1e6\n",
    "bbbTcut = bbb.apply_time_cut(binByBinCasc, e.t_lbounds,tmax)\n",
    "fbbbTcut = bbb.apply_time_cut(fbbbCasc, e.t_lbounds,tmax)\n",
    "fbbbCascWeightedTcut = bbb.apply_time_cut(fbbbCascWeighted, e.t_lbounds, tmax)"
   ]
  },
  {
   "cell_type": "markdown",
   "metadata": {},
   "source": [
    "Plot the spectra:"
   ]
  },
  {
   "cell_type": "code",
   "execution_count": 30,
   "metadata": {
    "collapsed": false
   },
   "outputs": [
    {
     "data": {
      "text/plain": [
       "<matplotlib.text.Text at 0x118eeced0>"
      ]
     },
     "execution_count": 30,
     "metadata": {},
     "output_type": "execute_result"
    },
    {
     "data": {
      "image/png": "[encoded data removed]",
      "text/plain": [
       "<matplotlib.figure.Figure at 0x118f51910>"
      ]
     },
     "metadata": {},
     "output_type": "display_data"
    }
   ],
   "source": [
    "plt.figure(figsize = (8,6))\n",
    "ax = plt.subplot(111)\n",
    "ax.set_xscale('log')\n",
    "ax.set_yscale('log')\n",
    "cp = plt.cm.plasma\n",
    "\n",
    "plt.plot(e.EeV , \n",
    "#         binByBinCasc.sum(axis = 3).sum(axis = 2).sum(axis = 0) * e.EeV,\n",
    "         bbbTcut.sum(axis = 2).sum(axis = 0) * e.EeV,\n",
    "         color = 'b',\n",
    "         drawstyle = 'steps-mid', lw = 2, ls = '-',\n",
    "        label = r'Total spectrum, simulated $\\alpha = -1.6$ ')\n",
    "\n",
    "# reweighted output that is stored in fits file:\n",
    "plt.plot(e.EeV , \n",
    "#         (fbbbCasc.sum(axis = 3).sum(axis = 2).T * w).T.sum(axis = 0) * e.EeV, \n",
    "         (fbbbTcut.sum(axis = 2).T * w).T.sum(axis = 0) * e.EeV, \n",
    "         color = 'r',\n",
    "         drawstyle = 'steps-mid', lw = 2, ls = '--',\n",
    "        label = r\"Total spectrum, simulated $\\alpha = -2$ reweighted (after summing over axis) to $\\alpha' = -1.6$\")\n",
    "# reweighted raw simulation output:\n",
    "plt.plot(e.EeV , \n",
    "         fbbbCascWeightedTcut.sum(axis = 2).sum(axis = 0) * e.EeV, \n",
    "         color = 'gold',\n",
    "         drawstyle = 'steps-mid', lw = 2, ls = '-.',\n",
    "        label = r\"Total spectrum, simulated $\\alpha = -2$ reweighted (before summing over axis) to $\\alpha' = -1.6$\")\n",
    "plt.plot(e.EeV , \n",
    "         fbbbTcut.sum(axis = 2).sum(axis = 0) * e.EeV, \n",
    "         color = '0.',\n",
    "         drawstyle = 'steps-mid', lw = 2, ls = '-',\n",
    "        label = r'Total spectrum, simulated $\\alpha = -2$ ')\n",
    "\n",
    "plt.legend(loc = 'lower center', fontsize = 'medium')\n",
    "v = np.array(plt.axis())\n",
    "v[-2] = v[-1] / 1e6\n",
    "plt.axis(v)\n",
    "plt.xlabel('Energy (eV)')\n",
    "plt.ylabel('$E^2 dN / dE$ (a.u.)')"
   ]
  },
  {
   "cell_type": "markdown",
   "metadata": {
    "collapsed": true
   },
   "source": [
    "Test the 68% containment radius calculation"
   ]
  },
  {
   "cell_type": "code",
   "execution_count": 32,
   "metadata": {
    "collapsed": false
   },
   "outputs": [],
   "source": [
    "r = []\n",
    "r.append( bbb.calc_cont_radius_2d(bbbTcut,e.EeV_lbounds,e.th,conf = 0.68, interp = True)) # the -1.6 sim\n",
    "r.append( bbb.calc_cont_radius_2d(fbbbTcut,e.EeV_lbounds,e.th,conf = 0.68, interp = True)) # the -2 sim \n",
    "r.append( bbb.calc_cont_radius_2d(fbbbCascWeightedTcut,e.EeV_lbounds,e.th,conf = 0.68, interp = True)) # the reweighted -1.6 sim"
   ]
  },
  {
   "cell_type": "code",
   "execution_count": 55,
   "metadata": {
    "collapsed": false
   },
   "outputs": [
    {
     "data": {
      "text/plain": [
       "<matplotlib.legend.Legend at 0x1099d0fd0>"
      ]
     },
     "execution_count": 55,
     "metadata": {},
     "output_type": "execute_result"
    },
    {
     "data": {
      "image/png": "[encoded data removed]",
      "text/plain": [
       "<matplotlib.figure.Figure at 0x10b0c9050>"
      ]
     },
     "metadata": {},
     "output_type": "display_data"
    }
   ],
   "source": [
    "label = [r'$\\alpha = -1.6$',r'$\\alpha = -2$',r'$\\alpha = -2$, reweighted']\n",
    "ls = ['-','-','--']\n",
    "color = ['b','0.','r']\n",
    "ide = -6\n",
    "for i,rr in enumerate(r):\n",
    "    plt.loglog(e.EeV / 1e9,rr[ide], label = label[i], lw = 2, ls = ls[i], color = color[i])\n",
    "\n",
    "plt.annotate('$E_\\mathrm{{max}} = {0:.1f}$GeV'.format(e.EeV[ide]/1e9), xy = (0.9,0.9), \n",
    "            xycoords = 'axes fraction', ha = 'right')\n",
    "plt.xlabel('Observed energy (GeV)')\n",
    "plt.ylabel('Containment radius (degrees)')\n",
    "plt.legend(loc = 3)"
   ]
  },
  {
   "cell_type": "markdown",
   "metadata": {},
   "source": [
    "$\\bf{Conclusion}$: Re-weighting works for spectrum, containment radius is unaffected by different spectral indices, as long as maximum energy is sufficiently large (i.e. enough cascade photons)."
   ]
  },
  {
   "cell_type": "code",
   "execution_count": null,
   "metadata": {
    "collapsed": true
   },
   "outputs": [],
   "source": []
  }
 ],
 "metadata": {
  "kernelspec": {
   "display_name": "Python 2",
   "language": "python",
   "name": "python2"
  },
  "language_info": {
   "codemirror_mode": {
    "name": "ipython",
    "version": 2
   },
   "file_extension": ".py",
   "mimetype": "text/x-python",
   "name": "python",
   "nbconvert_exporter": "python",
   "pygments_lexer": "ipython2",
   "version": "2.7.10"
  }
 },
 "nbformat": 4,
 "nbformat_minor": 0
}
